{
 "cells": [
  {
   "cell_type": "code",
   "execution_count": 1,
   "id": "fd510896",
   "metadata": {},
   "outputs": [],
   "source": [
    "class Solution:\n",
    "    def findCircleNum(self, isConnected):\n",
    "        if not isConnected or not isConnected[0]:\n",
    "            return 0\n",
    "        \n",
    "        n = len(isConnected)  # количество городов\n",
    "        visited = [False] * n  # отслеживаем посещенные города\n",
    "        provinces = 0\n",
    "        \n",
    "        def dfs(city):\n",
    "            # Помечаем текущий город как посещенный\n",
    "            visited[city] = True\n",
    "            \n",
    "            # Проверяем всех соседей (другие города)\n",
    "            for neighbor in range(n):\n",
    "                # Если есть соединение и соседний город еще не посещен\n",
    "                if isConnected[city][neighbor] == 1 and not visited[neighbor]:\n",
    "                    dfs(neighbor)  # рекурсивно посещаем соседа\n",
    "        \n",
    "        # Проходим по всем городам\n",
    "        for city in range(n):\n",
    "            # Если город еще не посещен - начинаем новую провинцию\n",
    "            if not visited[city]:\n",
    "                provinces += 1\n",
    "                dfs(city)  # обходим всю провинцию\n",
    "        \n",
    "        return provinces"
   ]
  },
  {
   "cell_type": "markdown",
   "id": "8dd71acc",
   "metadata": {},
   "source": [
    "Протестируем на литкодевском инпуте"
   ]
  },
  {
   "cell_type": "code",
   "execution_count": 2,
   "id": "6d4cec0a",
   "metadata": {},
   "outputs": [
    {
     "name": "stdout",
     "output_type": "stream",
     "text": [
      "2\n"
     ]
    }
   ],
   "source": [
    "isConnected = [[1,1,0],[1,1,0],[0,0,1]]\n",
    "bruh = Solution()\n",
    "print(bruh.findCircleNum(isConnected))"
   ]
  },
  {
   "cell_type": "markdown",
   "id": "34fd879d",
   "metadata": {},
   "source": [
    "Не прям рад, но неплохо"
   ]
  }
 ],
 "metadata": {
  "kernelspec": {
   "display_name": "Python 3",
   "language": "python",
   "name": "python3"
  },
  "language_info": {
   "codemirror_mode": {
    "name": "ipython",
    "version": 3
   },
   "file_extension": ".py",
   "mimetype": "text/x-python",
   "name": "python",
   "nbconvert_exporter": "python",
   "pygments_lexer": "ipython3",
   "version": "3.13.1"
  }
 },
 "nbformat": 4,
 "nbformat_minor": 5
}
