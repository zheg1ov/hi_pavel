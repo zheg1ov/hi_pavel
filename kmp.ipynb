{
 "cells": [
  {
   "cell_type": "markdown",
   "id": "2afdc1fa",
   "metadata": {},
   "source": [
    "## Привет, Паша! \n",
    "Это дз про префикс функцию и Knuth–Morris–Pratt Algorithm"
   ]
  },
  {
   "cell_type": "code",
   "execution_count": 2,
   "id": "a6245702",
   "metadata": {},
   "outputs": [],
   "source": [
    "def kfc(s):\n",
    " \n",
    "    length = len(s)\n",
    "    \n",
    "    for i in range(length - 1, 0, -1):\n",
    "        prefix = s[:i]\n",
    "        suffix = s[length - i:]\n",
    "        \n",
    "        if prefix == suffix:\n",
    "            return prefix\n",
    "    \n",
    "    return \"\""
   ]
  },
  {
   "cell_type": "markdown",
   "id": "f8b34ed4",
   "metadata": {},
   "source": [
    "проверим на примере"
   ]
  },
  {
   "cell_type": "code",
   "execution_count": 3,
   "id": "2d591bc0",
   "metadata": {},
   "outputs": [
    {
     "data": {
      "text/plain": [
       "'aba'"
      ]
     },
     "execution_count": 3,
     "metadata": {},
     "output_type": "execute_result"
    }
   ],
   "source": [
    "kfc('abaaba')"
   ]
  },
  {
   "cell_type": "markdown",
   "id": "f142e6b6",
   "metadata": {},
   "source": [
    "Крутототека"
   ]
  },
  {
   "cell_type": "markdown",
   "id": "8856d92e",
   "metadata": {},
   "source": []
  }
 ],
 "metadata": {
  "kernelspec": {
   "display_name": "base",
   "language": "python",
   "name": "python3"
  },
  "language_info": {
   "codemirror_mode": {
    "name": "ipython",
    "version": 3
   },
   "file_extension": ".py",
   "mimetype": "text/x-python",
   "name": "python",
   "nbconvert_exporter": "python",
   "pygments_lexer": "ipython3",
   "version": "3.13.5"
  }
 },
 "nbformat": 4,
 "nbformat_minor": 5
}
