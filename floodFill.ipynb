{
 "cells": [
  {
   "cell_type": "code",
   "execution_count": 2,
   "id": "70cc2a01",
   "metadata": {},
   "outputs": [],
   "source": [
    "class Solution:\n",
    "    def floodFill(self, image, sr, sc, color):\n",
    "        if not image:\n",
    "            return image\n",
    "        \n",
    "        rows, cols = len(image), len(image[0])\n",
    "        start_color = image[sr][sc]  # исходный цвет пикселя\n",
    "        \n",
    "        # Если новый цвет совпадает с исходным, ничего не делаем\n",
    "        if start_color == color:\n",
    "            return image\n",
    "        \n",
    "        def deeper(i, j):\n",
    "            # Проверяем границы и условие\n",
    "            if i < 0 or i >= rows or j < 0 or j >= cols or image[i][j] != start_color:\n",
    "                return\n",
    "            \n",
    "            # Меняем цвет текущего пикселя\n",
    "            image[i][j] = color\n",
    "            \n",
    "            # Рекурсивно вызываем для всех соседей\n",
    "            deeper(i-1, j)  # пиксель сверху\n",
    "            deeper(i+1, j)  # пиксель снизу\n",
    "            deeper(i, j-1)  # пиксель слева\n",
    "            deeper(i, j+1)  # пиксель справа\n",
    "        \n",
    "        # Запускаем заливку с начальной точки\n",
    "        deeper(sr, sc)\n",
    "        \n",
    "        return image"
   ]
  },
  {
   "cell_type": "markdown",
   "id": "f65c5302",
   "metadata": {},
   "source": [
    "Протестируем на литкодевском инпуте"
   ]
  },
  {
   "cell_type": "code",
   "execution_count": 5,
   "id": "0ce6128b",
   "metadata": {},
   "outputs": [
    {
     "name": "stdout",
     "output_type": "stream",
     "text": [
      "[[2, 2, 2], [2, 2, 0], [2, 0, 1]]\n"
     ]
    }
   ],
   "source": [
    "image = [[1,1,1],\n",
    "         [1,1,0],\n",
    "         [1,0,1]]\n",
    "sr = 1\n",
    "sc = 1\n",
    "color = 2\n",
    "meh = Solution()\n",
    "print(meh.floodFill(image, sr, sc, color))"
   ]
  },
  {
   "cell_type": "markdown",
   "id": "3cd600d6",
   "metadata": {},
   "source": [
    "здорово, блин ура, круто"
   ]
  }
 ],
 "metadata": {
  "kernelspec": {
   "display_name": "Python 3",
   "language": "python",
   "name": "python3"
  },
  "language_info": {
   "codemirror_mode": {
    "name": "ipython",
    "version": 3
   },
   "file_extension": ".py",
   "mimetype": "text/x-python",
   "name": "python",
   "nbconvert_exporter": "python",
   "pygments_lexer": "ipython3",
   "version": "3.13.1"
  }
 },
 "nbformat": 4,
 "nbformat_minor": 5
}
