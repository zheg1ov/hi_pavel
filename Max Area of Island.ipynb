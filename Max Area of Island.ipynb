{
 "cells": [
  {
   "cell_type": "code",
   "execution_count": 13,
   "id": "ca189f46",
   "metadata": {},
   "outputs": [],
   "source": [
    "class Solution:\n",
    "    def maxAreaOfIsland(self, grid):\n",
    "        if not grid or not grid[0]:\n",
    "            return 0\n",
    "        \n",
    "        rows, cols = len(grid), len(grid[0])\n",
    "        max_area = 0\n",
    "        \n",
    "        def _deeper(i, j):\n",
    "            # Проверяем границы и условие\n",
    "            if i < 0 or i >= rows or j < 0 or j >= cols or grid[i][j] == 0:\n",
    "                return 0\n",
    "            \n",
    "            # Затопляем клетку, чтобы больше не отсвечивала\n",
    "            grid[i][j] = 0\n",
    "            \n",
    "            # Рекурсивно смотрим всех соседей и считаем площадь острова\n",
    "            area = 1\n",
    "            area += _deeper(i-1, j)  # север \n",
    "            area += _deeper(i+1, j)  # юг\n",
    "            area += _deeper(i, j-1)  # запад\n",
    "            area += _deeper(i, j+1)  # восток\n",
    "            \n",
    "            return area\n",
    "        # Проходимся по всем клеточкам в поиске островов\n",
    "        for i in range(rows):\n",
    "            for j in range(cols):\n",
    "                if grid[i][j] == 1:\n",
    "                    area = _deeper(i, j)\n",
    "                    max_area = max(max_area, area)\n",
    "        \n",
    "        return max_area"
   ]
  },
  {
   "cell_type": "markdown",
   "id": "204f3c21",
   "metadata": {},
   "source": [
    "Протестируем на литкодевском инпуте"
   ]
  },
  {
   "cell_type": "code",
   "execution_count": 14,
   "id": "2858f182",
   "metadata": {},
   "outputs": [],
   "source": [
    "grid = [[0,0,1,0,0,0,0,1,0,0,0,0,0],\n",
    "        [0,0,0,0,0,0,0,1,1,1,0,0,0],\n",
    "        [0,1,1,0,1,0,0,0,0,0,0,0,0],\n",
    "        [0,1,0,0,1,1,0,0,1,0,1,0,0],\n",
    "        [0,1,0,0,1,1,0,0,1,1,1,0,0],\n",
    "        [0,0,0,0,0,0,0,0,0,0,1,0,0],\n",
    "        [0,0,0,0,0,0,0,1,1,1,0,0,0],\n",
    "        [0,0,0,0,0,0,0,1,1,0,0,0,0]]"
   ]
  },
  {
   "cell_type": "code",
   "execution_count": 16,
   "id": "ca860905",
   "metadata": {},
   "outputs": [
    {
     "data": {
      "text/plain": [
       "6"
      ]
     },
     "execution_count": 16,
     "metadata": {},
     "output_type": "execute_result"
    }
   ],
   "source": [
    "haha = Solution()\n",
    "haha.maxAreaOfIsland(grid=grid)"
   ]
  },
  {
   "cell_type": "markdown",
   "id": "f59209c7",
   "metadata": {},
   "source": [
    "ништяк, ну нормально типа"
   ]
  }
 ],
 "metadata": {
  "kernelspec": {
   "display_name": "Python 3",
   "language": "python",
   "name": "python3"
  },
  "language_info": {
   "codemirror_mode": {
    "name": "ipython",
    "version": 3
   },
   "file_extension": ".py",
   "mimetype": "text/x-python",
   "name": "python",
   "nbconvert_exporter": "python",
   "pygments_lexer": "ipython3",
   "version": "3.13.1"
  }
 },
 "nbformat": 4,
 "nbformat_minor": 5
}
